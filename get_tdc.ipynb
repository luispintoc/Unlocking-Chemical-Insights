{
 "cells": [
  {
   "cell_type": "code",
   "execution_count": null,
   "id": "392c8765",
   "metadata": {},
   "outputs": [],
   "source": [
    "# ! pip install PyTDC"
   ]
  },
  {
   "cell_type": "markdown",
   "id": "2a0fe439",
   "metadata": {},
   "source": [
    "## This will download the dataset once"
   ]
  },
  {
   "cell_type": "code",
   "execution_count": null,
   "id": "8a1a8aaa",
   "metadata": {},
   "outputs": [],
   "source": [
    "from tdc.benchmark_group import admet_group\n",
    "\n",
    "group = admet_group(path = 'input_data/tdcommons/')\n",
    "benchmark = group.get('ames')\n",
    "\n",
    "name = benchmark['name']\n",
    "train_val, test = benchmark['train_val'], benchmark['test']"
   ]
  }
 ],
 "metadata": {
  "language_info": {
   "name": "python"
  }
 },
 "nbformat": 4,
 "nbformat_minor": 5
}
